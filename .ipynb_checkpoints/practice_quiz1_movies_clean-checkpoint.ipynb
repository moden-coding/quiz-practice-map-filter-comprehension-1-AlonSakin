{
 "cells": [
  {
   "cell_type": "markdown",
   "id": "c5d33370",
   "metadata": {
    "id": "c5d33370"
   },
   "source": [
    "\n",
    "#Practice Quiz 1 — Movies & Ratings\n",
    "\n",
    "**Instructions:**  \n",
    "- You will work directly in this notebook.  \n",
    "- Keep your answers in the provided `# TODO` cells. Do not delete the original dataset cells.\n",
    "- Space is provided to show your solution as comprehension or as a filter/map function. Choose 1 to get an A, do both to get an A+\n",
    "---\n"
   ]
  },
  {
   "cell_type": "markdown",
   "id": "27b0a6ea",
   "metadata": {
    "id": "27b0a6ea"
   },
   "source": [
    "\n",
    "\n",
    "**Dataset:** A small sample of movie ratings with fields: `title`, `year`, `genres`, `rating` (0–10), `votes`.\n",
    "\n",
    "**Goals:** Practice filtering lists of dicts, mapping fields, and building derived collections with list comprehensions.\n"
   ]
  },
  {
   "cell_type": "code",
   "execution_count": 1,
   "id": "2faa2a0d",
   "metadata": {
    "colab": {
     "base_uri": "https://localhost:8080/"
    },
    "id": "2faa2a0d",
    "outputId": "7de4bc45-97f3-405a-b3f8-659f1a6d5734"
   },
   "outputs": [
    {
     "data": {
      "text/plain": [
       "(10,\n",
       " [{'title': 'Inception',\n",
       "   'year': 2010,\n",
       "   'genres': ['Action', 'Sci-Fi', 'Thriller'],\n",
       "   'rating': 8.8,\n",
       "   'votes': 2400000},\n",
       "  {'title': 'The Social Network',\n",
       "   'year': 2010,\n",
       "   'genres': ['Biography', 'Drama'],\n",
       "   'rating': 7.8,\n",
       "   'votes': 750000}])"
      ]
     },
     "execution_count": 1,
     "metadata": {},
     "output_type": "execute_result"
    }
   ],
   "source": [
    "\n",
    "# ----- DATA: Movies (small realistic sample) -----\n",
    "movies = [\n",
    "    {\"title\": \"Inception\", \"year\": 2010, \"genres\": [\"Action\",\"Sci-Fi\",\"Thriller\"], \"rating\": 8.8, \"votes\": 2400000},\n",
    "    {\"title\": \"The Social Network\", \"year\": 2010, \"genres\": [\"Biography\",\"Drama\"], \"rating\": 7.8, \"votes\": 750000},\n",
    "    {\"title\": \"Mad Max: Fury Road\", \"year\": 2015, \"genres\": [\"Action\",\"Adventure\"], \"rating\": 8.1, \"votes\": 1100000},\n",
    "    {\"title\": \"The Martian\", \"year\": 2015, \"genres\": [\"Adventure\",\"Drama\",\"Sci-Fi\"], \"rating\": 8.0, \"votes\": 900000},\n",
    "    {\"title\": \"La La Land\", \"year\": 2016, \"genres\": [\"Comedy\",\"Drama\",\"Music\"], \"rating\": 8.0, \"votes\": 650000},\n",
    "    {\"title\": \"Moonlight\", \"year\": 2016, \"genres\": [\"Drama\"], \"rating\": 7.4, \"votes\": 360000},\n",
    "    {\"title\": \"Get Out\", \"year\": 2017, \"genres\": [\"Horror\",\"Mystery\",\"Thriller\"], \"rating\": 7.8, \"votes\": 670000},\n",
    "    {\"title\": \"Black Panther\", \"year\": 2018, \"genres\": [\"Action\",\"Adventure\",\"Sci-Fi\"], \"rating\": 7.3, \"votes\": 800000},\n",
    "    {\"title\": \"Parasite\", \"year\": 2019, \"genres\": [\"Drama\",\"Thriller\"], \"rating\": 8.5, \"votes\": 950000},\n",
    "    {\"title\": \"Dune\", \"year\": 2021, \"genres\": [\"Adventure\",\"Drama\",\"Sci-Fi\"], \"rating\": 8.0, \"votes\": 720000},\n",
    "]\n",
    "len(movies), movies[:2]  # quick peek\n"
   ]
  },
  {
   "cell_type": "markdown",
   "id": "0755970b",
   "metadata": {
    "id": "0755970b"
   },
   "source": [
    "\n",
    "### Tasks\n",
    "1. Filter movies from 2015 or later and assign to `movies_2015_plus`\n"
   ]
  },
  {
   "cell_type": "code",
   "execution_count": 2,
   "id": "KYsEgcN_TA6e",
   "metadata": {
    "id": "KYsEgcN_TA6e"
   },
   "outputs": [],
   "source": [
    "movies_2015_plus = list(filter(lambda movie: movie[\"year\"] >= 2015, movies))"
   ]
  },
  {
   "cell_type": "code",
   "execution_count": 3,
   "id": "c239b839-b12f-4125-b4d6-750651f94bdb",
   "metadata": {
    "id": "1NSls8F0TIQ1"
   },
   "outputs": [
    {
     "name": "stdout",
     "output_type": "stream",
     "text": [
      "[{'title': 'Mad Max: Fury Road', 'year': 2015, 'genres': ['Action', 'Adventure'], 'rating': 8.1, 'votes': 1100000}, {'title': 'The Martian', 'year': 2015, 'genres': ['Adventure', 'Drama', 'Sci-Fi'], 'rating': 8.0, 'votes': 900000}, {'title': 'La La Land', 'year': 2016, 'genres': ['Comedy', 'Drama', 'Music'], 'rating': 8.0, 'votes': 650000}, {'title': 'Moonlight', 'year': 2016, 'genres': ['Drama'], 'rating': 7.4, 'votes': 360000}, {'title': 'Get Out', 'year': 2017, 'genres': ['Horror', 'Mystery', 'Thriller'], 'rating': 7.8, 'votes': 670000}, {'title': 'Black Panther', 'year': 2018, 'genres': ['Action', 'Adventure', 'Sci-Fi'], 'rating': 7.3, 'votes': 800000}, {'title': 'Parasite', 'year': 2019, 'genres': ['Drama', 'Thriller'], 'rating': 8.5, 'votes': 950000}, {'title': 'Dune', 'year': 2021, 'genres': ['Adventure', 'Drama', 'Sci-Fi'], 'rating': 8.0, 'votes': 720000}]\n"
     ]
    }
   ],
   "source": [
    "print(movies_2015_plus)"
   ]
  },
  {
   "cell_type": "markdown",
   "id": "BrdqPaLkTl_Y",
   "metadata": {
    "id": "BrdqPaLkTl_Y"
   },
   "source": [
    "2. Create a **list** `titles_and_ratings` of `(title, rating)` pairs for the filtered movies from part 1."
   ]
  },
  {
   "cell_type": "code",
   "execution_count": 4,
   "id": "L_dfxBXYVBP6",
   "metadata": {
    "id": "L_dfxBXYVBP6"
   },
   "outputs": [],
   "source": [
    "titles_and_ratings = [(movie[\"title\"], movie[\"rating\"]) for movie in movies_2015_plus]"
   ]
  },
  {
   "cell_type": "code",
   "execution_count": 5,
   "id": "8i2iJzzgTC0g",
   "metadata": {
    "id": "8i2iJzzgTC0g"
   },
   "outputs": [
    {
     "name": "stdout",
     "output_type": "stream",
     "text": [
      "[('Mad Max: Fury Road', 8.1), ('The Martian', 8.0), ('La La Land', 8.0), ('Moonlight', 7.4), ('Get Out', 7.8), ('Black Panther', 7.3), ('Parasite', 8.5), ('Dune', 8.0)]\n"
     ]
    }
   ],
   "source": [
    "print(titles_and_ratings)"
   ]
  },
  {
   "cell_type": "markdown",
   "id": "zfatLsiSTo0e",
   "metadata": {
    "id": "zfatLsiSTo0e"
   },
   "source": [
    "3. Build a **list** `blockbusters` of titles with at least **900,000 votes**"
   ]
  },
  {
   "cell_type": "code",
   "execution_count": 9,
   "id": "MvpvjsbJTx0W",
   "metadata": {
    "id": "MvpvjsbJTx0W"
   },
   "outputs": [],
   "source": [
    "blockbusters = [movie[\"title\"] for movie in filter(lambda movie: movie[\"votes\"] >= 900000, movies)]"
   ]
  },
  {
   "cell_type": "code",
   "execution_count": 10,
   "id": "X-gzMTp-VVaX",
   "metadata": {
    "id": "X-gzMTp-VVaX"
   },
   "outputs": [
    {
     "name": "stdout",
     "output_type": "stream",
     "text": [
      "['Inception', 'Mad Max: Fury Road', 'The Martian', 'Parasite']\n"
     ]
    }
   ],
   "source": [
    "print(blockbusters)"
   ]
  },
  {
   "cell_type": "markdown",
   "id": "O1-L4ixJTuBL",
   "metadata": {
    "id": "O1-L4ixJTuBL"
   },
   "source": [
    "4. Make a **dict** `title_to_score` mapping title → `rating * log10(votes)`, using `math.log10`.  "
   ]
  },
  {
   "cell_type": "code",
   "execution_count": 12,
   "id": "BHynzrxdSQxi",
   "metadata": {
    "id": "BHynzrxdSQxi"
   },
   "outputs": [],
   "source": [
    "import math\n",
    "title_to_score = {movie[\"title\"] : movie[\"rating\"] * math.log10(movie[\"votes\"]) for movie in movies}"
   ]
  },
  {
   "cell_type": "code",
   "execution_count": 13,
   "id": "bc2acc2d-b439-46db-9b3b-adb07f7bf55f",
   "metadata": {},
   "outputs": [
    {
     "name": "stdout",
     "output_type": "stream",
     "text": [
      "{'Inception': 56.14585892706214, 'The Social Network': 45.82547785445526, 'Mad Max: Fury Road': 48.935280749781626, 'The Martian': 47.6339400755146, 'La La Land': 46.503306853142846, 'Moonlight': 41.116638505677926, 'Get Out': 45.44338346106644, 'Black Panther': 43.092556905041185, 'Parasite': 50.8106506449552, 'Dune': 46.858659971450145}\n"
     ]
    }
   ],
   "source": [
    "print(title_to_score)"
   ]
  },
  {
   "cell_type": "code",
   "execution_count": null,
   "id": "8d63d672-7ebe-4949-9f0e-aa0c625dc6ec",
   "metadata": {},
   "outputs": [],
   "source": []
  }
 ],
 "metadata": {
  "colab": {
   "provenance": []
  },
  "kernelspec": {
   "display_name": "Python 3 (ipykernel)",
   "language": "python",
   "name": "python3"
  },
  "language_info": {
   "codemirror_mode": {
    "name": "ipython",
    "version": 3
   },
   "file_extension": ".py",
   "mimetype": "text/x-python",
   "name": "python",
   "nbconvert_exporter": "python",
   "pygments_lexer": "ipython3",
   "version": "3.13.5"
  }
 },
 "nbformat": 4,
 "nbformat_minor": 5
}
