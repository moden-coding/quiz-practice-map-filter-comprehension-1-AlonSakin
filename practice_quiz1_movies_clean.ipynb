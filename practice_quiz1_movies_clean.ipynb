{
  "cells": [
    {
      "cell_type": "markdown",
      "id": "c5d33370",
      "metadata": {
        "id": "c5d33370"
      },
      "source": [
        "\n",
        "#Practice Quiz 1 — Movies & Ratings\n",
        "\n",
        "**Instructions:**  \n",
        "- You will work directly in this notebook.  \n",
        "- Keep your answers in the provided `# TODO` cells. Do not delete the original dataset cells.\n",
        "- Space is provided to show your solution as comprehension or as a filter/map function. Choose 1 to get an A, do both to get an A+\n",
        "---\n"
      ]
    },
    {
      "cell_type": "markdown",
      "id": "27b0a6ea",
      "metadata": {
        "id": "27b0a6ea"
      },
      "source": [
        "\n",
        "\n",
        "**Dataset:** A small sample of movie ratings with fields: `title`, `year`, `genres`, `rating` (0–10), `votes`.\n",
        "\n",
        "**Goals:** Practice filtering lists of dicts, mapping fields, and building derived collections with list comprehensions.\n"
      ]
    },
    {
      "cell_type": "code",
      "execution_count": null,
      "id": "2faa2a0d",
      "metadata": {
        "colab": {
          "base_uri": "https://localhost:8080/"
        },
        "id": "2faa2a0d",
        "outputId": "7de4bc45-97f3-405a-b3f8-659f1a6d5734"
      },
      "outputs": [
        {
          "output_type": "execute_result",
          "data": {
            "text/plain": [
              "(10,\n",
              " [{'title': 'Inception',\n",
              "   'year': 2010,\n",
              "   'genres': ['Action', 'Sci-Fi', 'Thriller'],\n",
              "   'rating': 8.8,\n",
              "   'votes': 2400000},\n",
              "  {'title': 'The Social Network',\n",
              "   'year': 2010,\n",
              "   'genres': ['Biography', 'Drama'],\n",
              "   'rating': 7.8,\n",
              "   'votes': 750000}])"
            ]
          },
          "metadata": {},
          "execution_count": 2
        }
      ],
      "source": [
        "\n",
        "# ----- DATA: Movies (small realistic sample) -----\n",
        "movies = [\n",
        "    {\"title\": \"Inception\", \"year\": 2010, \"genres\": [\"Action\",\"Sci-Fi\",\"Thriller\"], \"rating\": 8.8, \"votes\": 2400000},\n",
        "    {\"title\": \"The Social Network\", \"year\": 2010, \"genres\": [\"Biography\",\"Drama\"], \"rating\": 7.8, \"votes\": 750000},\n",
        "    {\"title\": \"Mad Max: Fury Road\", \"year\": 2015, \"genres\": [\"Action\",\"Adventure\"], \"rating\": 8.1, \"votes\": 1100000},\n",
        "    {\"title\": \"The Martian\", \"year\": 2015, \"genres\": [\"Adventure\",\"Drama\",\"Sci-Fi\"], \"rating\": 8.0, \"votes\": 900000},\n",
        "    {\"title\": \"La La Land\", \"year\": 2016, \"genres\": [\"Comedy\",\"Drama\",\"Music\"], \"rating\": 8.0, \"votes\": 650000},\n",
        "    {\"title\": \"Moonlight\", \"year\": 2016, \"genres\": [\"Drama\"], \"rating\": 7.4, \"votes\": 360000},\n",
        "    {\"title\": \"Get Out\", \"year\": 2017, \"genres\": [\"Horror\",\"Mystery\",\"Thriller\"], \"rating\": 7.8, \"votes\": 670000},\n",
        "    {\"title\": \"Black Panther\", \"year\": 2018, \"genres\": [\"Action\",\"Adventure\",\"Sci-Fi\"], \"rating\": 7.3, \"votes\": 800000},\n",
        "    {\"title\": \"Parasite\", \"year\": 2019, \"genres\": [\"Drama\",\"Thriller\"], \"rating\": 8.5, \"votes\": 950000},\n",
        "    {\"title\": \"Dune\", \"year\": 2021, \"genres\": [\"Adventure\",\"Drama\",\"Sci-Fi\"], \"rating\": 8.0, \"votes\": 720000},\n",
        "]\n",
        "len(movies), movies[:2]  # quick peek\n"
      ]
    },
    {
      "cell_type": "markdown",
      "id": "0755970b",
      "metadata": {
        "id": "0755970b"
      },
      "source": [
        "\n",
        "### Tasks\n",
        "1. Filter movies from 2015 or later and assign to `movies_2015_plus`\n"
      ]
    },
    {
      "cell_type": "code",
      "source": [],
      "metadata": {
        "id": "KYsEgcN_TA6e"
      },
      "id": "KYsEgcN_TA6e",
      "execution_count": null,
      "outputs": []
    },
    {
      "cell_type": "code",
      "source": [],
      "metadata": {
        "id": "1NSls8F0TIQ1"
      },
      "id": "1NSls8F0TIQ1",
      "execution_count": null,
      "outputs": []
    },
    {
      "cell_type": "markdown",
      "source": [
        "2. Create a **list** `titles_and_ratings` of `(title, rating)` pairs for the filtered movies from part 1."
      ],
      "metadata": {
        "id": "BrdqPaLkTl_Y"
      },
      "id": "BrdqPaLkTl_Y"
    },
    {
      "cell_type": "code",
      "source": [],
      "metadata": {
        "id": "L_dfxBXYVBP6"
      },
      "id": "L_dfxBXYVBP6",
      "execution_count": null,
      "outputs": []
    },
    {
      "cell_type": "code",
      "source": [],
      "metadata": {
        "id": "8i2iJzzgTC0g"
      },
      "id": "8i2iJzzgTC0g",
      "execution_count": null,
      "outputs": []
    },
    {
      "cell_type": "markdown",
      "source": [
        "3. Build a **list** `blockbusters` of titles with at least **900,000 votes**"
      ],
      "metadata": {
        "id": "zfatLsiSTo0e"
      },
      "id": "zfatLsiSTo0e"
    },
    {
      "cell_type": "code",
      "source": [],
      "metadata": {
        "id": "MvpvjsbJTx0W"
      },
      "id": "MvpvjsbJTx0W",
      "execution_count": null,
      "outputs": []
    },
    {
      "cell_type": "code",
      "source": [],
      "metadata": {
        "id": "X-gzMTp-VVaX"
      },
      "id": "X-gzMTp-VVaX",
      "execution_count": null,
      "outputs": []
    },
    {
      "cell_type": "markdown",
      "source": [
        "4. Make a **dict** `title_to_score` mapping title → `rating * log10(votes)`, using `math.log10`.  "
      ],
      "metadata": {
        "id": "O1-L4ixJTuBL"
      },
      "id": "O1-L4ixJTuBL"
    },
    {
      "cell_type": "code",
      "source": [],
      "metadata": {
        "id": "BHynzrxdSQxi"
      },
      "id": "BHynzrxdSQxi",
      "execution_count": null,
      "outputs": []
    }
  ],
  "metadata": {
    "colab": {
      "provenance": []
    },
    "language_info": {
      "name": "python"
    },
    "kernelspec": {
      "name": "python3",
      "display_name": "Python 3"
    }
  },
  "nbformat": 4,
  "nbformat_minor": 5
}